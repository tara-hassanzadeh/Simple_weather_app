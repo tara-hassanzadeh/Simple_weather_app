{
  "nbformat": 4,
  "nbformat_minor": 0,
  "metadata": {
    "colab": {
      "provenance": [],
      "authorship_tag": "ABX9TyMIV4FM0zCLzUuorjHyYBRo",
      "include_colab_link": true
    },
    "kernelspec": {
      "name": "python3",
      "display_name": "Python 3"
    },
    "language_info": {
      "name": "python"
    }
  },
  "cells": [
    {
      "cell_type": "markdown",
      "metadata": {
        "id": "view-in-github",
        "colab_type": "text"
      },
      "source": [
        "<a href=\"https://colab.research.google.com/github/tara-hassanzadeh/Simple_weather_app/blob/main/simple_weather_app.ipynb\" target=\"_parent\"><img src=\"https://colab.research.google.com/assets/colab-badge.svg\" alt=\"Open In Colab\"/></a>"
      ]
    },
    {
      "cell_type": "markdown",
      "source": [
        "Simple Weather app"
      ],
      "metadata": {
        "id": "1nVsfpAbgWnA"
      }
    },
    {
      "cell_type": "code",
      "source": [
        "import requests\n",
        "API_KEY = input(\"Please enter your API Key: \").strip()\n",
        "city = input(\"Please enter city name: \").strip()\n",
        "url = f\"https://api.openweathermap.org/data/2.5/weather?q={city}&appid={API_KEY}&units=metric&lang=en\"\n",
        "response = requests.get(url)\n",
        "data = response.json()\n",
        "if response.status_code == 200 and data.get(\"cod\") == 200:\n",
        "    name = data[\"name\"]\n",
        "    country = data[\"sys\"][\"country\"]\n",
        "    temp = data[\"main\"][\"temp\"]\n",
        "    description = data[\"weather\"][0][\"description\"]\n",
        "\n",
        "    print(f\"\\n🏙️ City: {name}, {country}\")\n",
        "    print(f\"🌡️ Temperature: {temp} °C\")\n",
        "    print(f\"☁️ Weather: {description}\")\n",
        "else:\n",
        "    print(\"❌ City not found or something went wrong.\")\n",
        "    print(\"🔎 API Response:\", data)"
      ],
      "metadata": {
        "colab": {
          "base_uri": "https://localhost:8080/"
        },
        "id": "sSsI15L0mgXv",
        "outputId": "8d39fdda-d3a9-4c10-a1e9-2783fd14ac37"
      },
      "execution_count": 8,
      "outputs": [
        {
          "output_type": "stream",
          "name": "stdout",
          "text": [
            "Please enter your API Key: cf814653b383322f417caa6e14efa00f\n",
            "Please enter city name: Tehran\n",
            "\n",
            "🏙️ City: Tehran, IR\n",
            "🌡️ Temperature: 30.4 °C\n",
            "☁️ Weather: clear sky\n"
          ]
        }
      ]
    }
  ]
}